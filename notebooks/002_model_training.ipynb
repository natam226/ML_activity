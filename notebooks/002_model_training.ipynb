{
 "cells": [
  {
   "cell_type": "code",
   "execution_count": null,
   "id": "bc8a76ec",
   "metadata": {},
   "outputs": [],
   "source": [
    "import os\n",
    "import pandas as pd\n",
    "from sklearn import model_selection\n",
    "import matplotlib.pyplot as plt"
   ]
  },
  {
   "cell_type": "code",
   "execution_count": 2,
   "id": "5d5666ba",
   "metadata": {},
   "outputs": [
    {
     "name": "stdout",
     "output_type": "stream",
     "text": [
      "c:\\Users\\natym\\Desktop\n"
     ]
    }
   ],
   "source": [
    "try:\n",
    "    os.chdir(\"../../ML_activity\")\n",
    "except FileNotFoundError:\n",
    "    print(\"\"\"\n",
    "        FileNotFoundError - Puede que el directorio no exista o no estas ubicad@ en la ruta especificada.\n",
    "        \"\"\")\n",
    "os.chdir(\"..\")\n",
    "print(os.getcwd())"
   ]
  },
  {
   "cell_type": "code",
   "execution_count": 3,
   "id": "a339f82d",
   "metadata": {},
   "outputs": [],
   "source": [
    "ml_data = pd.read_csv('ML_activity/data/MLA_100k_cleaned.csv')"
   ]
  },
  {
   "cell_type": "markdown",
   "id": "03c05999",
   "metadata": {},
   "source": [
    "### **_Model Training_**"
   ]
  },
  {
   "cell_type": "markdown",
   "id": "796c0a49",
   "metadata": {},
   "source": [
    "#### _Import libraries_"
   ]
  },
  {
   "cell_type": "code",
   "execution_count": 4,
   "id": "16bc17bd",
   "metadata": {},
   "outputs": [],
   "source": [
    "from sklearn.preprocessing import OneHotEncoder, StandardScaler\n",
    "from sklearn.linear_model import LogisticRegression\n",
    "from sklearn.neighbors import KNeighborsClassifier\n",
    "from sklearn.tree import DecisionTreeClassifier\n",
    "import xgboost as xgb\n",
    "from xgboost import XGBClassifier\n",
    "from sklearn.model_selection import train_test_split, cross_val_predict, StratifiedKFold\n",
    "from sklearn.metrics import accuracy_score, precision_score, recall_score, f1_score\n",
    "from sklearn.metrics import classification_report, confusion_matrix, ConfusionMatrixDisplay"
   ]
  },
  {
   "cell_type": "code",
   "execution_count": 5,
   "id": "6fc34221",
   "metadata": {},
   "outputs": [],
   "source": [
    "categorical_features = ['listing_type_id', 'buying_mode', 'status', 'shipping_mode']\n",
    "boolean_features = ['automatic_relist', 'local_pick_up', 'free_shipping']\n",
    "numeric_features = ['price', 'sold_quantity', 'available_quantity']\n",
    "target = 'condition'"
   ]
  },
  {
   "cell_type": "code",
   "execution_count": 6,
   "id": "7b401874",
   "metadata": {},
   "outputs": [],
   "source": [
    "encoder = OneHotEncoder(handle_unknown='ignore', sparse_output=False)\n",
    "df_encoded = pd.DataFrame(encoder.fit_transform(ml_data[categorical_features]))\n",
    "df_encoded.columns = encoder.get_feature_names_out(categorical_features)\n",
    "df_encoded.index = ml_data.index\n",
    "df = pd.concat([ml_data.drop(categorical_features, axis=1), df_encoded], axis=1)"
   ]
  },
  {
   "cell_type": "code",
   "execution_count": 7,
   "id": "8f07d325",
   "metadata": {},
   "outputs": [],
   "source": [
    "df_booleans = df[boolean_features].astype(int)"
   ]
  },
  {
   "cell_type": "code",
   "execution_count": 8,
   "id": "539b5a5a",
   "metadata": {},
   "outputs": [],
   "source": [
    "scaler = StandardScaler()\n",
    "df_scaled = pd.DataFrame(scaler.fit_transform(df[numeric_features]), columns=numeric_features, index=df.index)"
   ]
  },
  {
   "cell_type": "code",
   "execution_count": 9,
   "id": "93f45352",
   "metadata": {},
   "outputs": [
    {
     "data": {
      "text/html": [
       "<div>\n",
       "<style scoped>\n",
       "    .dataframe tbody tr th:only-of-type {\n",
       "        vertical-align: middle;\n",
       "    }\n",
       "\n",
       "    .dataframe tbody tr th {\n",
       "        vertical-align: top;\n",
       "    }\n",
       "\n",
       "    .dataframe thead th {\n",
       "        text-align: right;\n",
       "    }\n",
       "</style>\n",
       "<table border=\"1\" class=\"dataframe\">\n",
       "  <thead>\n",
       "    <tr style=\"text-align: right;\">\n",
       "      <th></th>\n",
       "      <th>condition</th>\n",
       "      <th>listing_type_id_bronze</th>\n",
       "      <th>listing_type_id_free</th>\n",
       "      <th>listing_type_id_gold</th>\n",
       "      <th>listing_type_id_gold_premium</th>\n",
       "      <th>listing_type_id_gold_pro</th>\n",
       "      <th>listing_type_id_gold_special</th>\n",
       "      <th>listing_type_id_silver</th>\n",
       "      <th>buying_mode_auction</th>\n",
       "      <th>buying_mode_buy_it_now</th>\n",
       "      <th>...</th>\n",
       "      <th>shipping_mode_custom</th>\n",
       "      <th>shipping_mode_me1</th>\n",
       "      <th>shipping_mode_me2</th>\n",
       "      <th>shipping_mode_not_specified</th>\n",
       "      <th>automatic_relist</th>\n",
       "      <th>local_pick_up</th>\n",
       "      <th>free_shipping</th>\n",
       "      <th>price</th>\n",
       "      <th>sold_quantity</th>\n",
       "      <th>available_quantity</th>\n",
       "    </tr>\n",
       "  </thead>\n",
       "  <tbody>\n",
       "    <tr>\n",
       "      <th>0</th>\n",
       "      <td>1</td>\n",
       "      <td>1.0</td>\n",
       "      <td>0.0</td>\n",
       "      <td>0.0</td>\n",
       "      <td>0.0</td>\n",
       "      <td>0.0</td>\n",
       "      <td>0.0</td>\n",
       "      <td>0.0</td>\n",
       "      <td>0.0</td>\n",
       "      <td>1.0</td>\n",
       "      <td>...</td>\n",
       "      <td>0.0</td>\n",
       "      <td>0.0</td>\n",
       "      <td>0.0</td>\n",
       "      <td>1.0</td>\n",
       "      <td>0</td>\n",
       "      <td>1</td>\n",
       "      <td>0</td>\n",
       "      <td>-0.006082</td>\n",
       "      <td>-0.056156</td>\n",
       "      <td>-0.080423</td>\n",
       "    </tr>\n",
       "    <tr>\n",
       "      <th>1</th>\n",
       "      <td>0</td>\n",
       "      <td>0.0</td>\n",
       "      <td>0.0</td>\n",
       "      <td>0.0</td>\n",
       "      <td>0.0</td>\n",
       "      <td>0.0</td>\n",
       "      <td>0.0</td>\n",
       "      <td>1.0</td>\n",
       "      <td>0.0</td>\n",
       "      <td>1.0</td>\n",
       "      <td>...</td>\n",
       "      <td>0.0</td>\n",
       "      <td>0.0</td>\n",
       "      <td>1.0</td>\n",
       "      <td>0.0</td>\n",
       "      <td>0</td>\n",
       "      <td>1</td>\n",
       "      <td>0</td>\n",
       "      <td>-0.005784</td>\n",
       "      <td>-0.056156</td>\n",
       "      <td>-0.080423</td>\n",
       "    </tr>\n",
       "    <tr>\n",
       "      <th>2</th>\n",
       "      <td>0</td>\n",
       "      <td>1.0</td>\n",
       "      <td>0.0</td>\n",
       "      <td>0.0</td>\n",
       "      <td>0.0</td>\n",
       "      <td>0.0</td>\n",
       "      <td>0.0</td>\n",
       "      <td>0.0</td>\n",
       "      <td>0.0</td>\n",
       "      <td>1.0</td>\n",
       "      <td>...</td>\n",
       "      <td>0.0</td>\n",
       "      <td>0.0</td>\n",
       "      <td>1.0</td>\n",
       "      <td>0.0</td>\n",
       "      <td>0</td>\n",
       "      <td>1</td>\n",
       "      <td>0</td>\n",
       "      <td>-0.006084</td>\n",
       "      <td>-0.056156</td>\n",
       "      <td>-0.080423</td>\n",
       "    </tr>\n",
       "    <tr>\n",
       "      <th>3</th>\n",
       "      <td>1</td>\n",
       "      <td>0.0</td>\n",
       "      <td>0.0</td>\n",
       "      <td>0.0</td>\n",
       "      <td>0.0</td>\n",
       "      <td>0.0</td>\n",
       "      <td>0.0</td>\n",
       "      <td>1.0</td>\n",
       "      <td>0.0</td>\n",
       "      <td>1.0</td>\n",
       "      <td>...</td>\n",
       "      <td>0.0</td>\n",
       "      <td>0.0</td>\n",
       "      <td>1.0</td>\n",
       "      <td>0.0</td>\n",
       "      <td>0</td>\n",
       "      <td>1</td>\n",
       "      <td>0</td>\n",
       "      <td>-0.006024</td>\n",
       "      <td>-0.056156</td>\n",
       "      <td>-0.080423</td>\n",
       "    </tr>\n",
       "    <tr>\n",
       "      <th>4</th>\n",
       "      <td>0</td>\n",
       "      <td>1.0</td>\n",
       "      <td>0.0</td>\n",
       "      <td>0.0</td>\n",
       "      <td>0.0</td>\n",
       "      <td>0.0</td>\n",
       "      <td>0.0</td>\n",
       "      <td>0.0</td>\n",
       "      <td>0.0</td>\n",
       "      <td>1.0</td>\n",
       "      <td>...</td>\n",
       "      <td>0.0</td>\n",
       "      <td>0.0</td>\n",
       "      <td>0.0</td>\n",
       "      <td>1.0</td>\n",
       "      <td>0</td>\n",
       "      <td>1</td>\n",
       "      <td>0</td>\n",
       "      <td>-0.006088</td>\n",
       "      <td>-0.056156</td>\n",
       "      <td>-0.080423</td>\n",
       "    </tr>\n",
       "  </tbody>\n",
       "</table>\n",
       "<p>5 rows × 25 columns</p>\n",
       "</div>"
      ],
      "text/plain": [
       "   condition  listing_type_id_bronze  listing_type_id_free  \\\n",
       "0          1                     1.0                   0.0   \n",
       "1          0                     0.0                   0.0   \n",
       "2          0                     1.0                   0.0   \n",
       "3          1                     0.0                   0.0   \n",
       "4          0                     1.0                   0.0   \n",
       "\n",
       "   listing_type_id_gold  listing_type_id_gold_premium  \\\n",
       "0                   0.0                           0.0   \n",
       "1                   0.0                           0.0   \n",
       "2                   0.0                           0.0   \n",
       "3                   0.0                           0.0   \n",
       "4                   0.0                           0.0   \n",
       "\n",
       "   listing_type_id_gold_pro  listing_type_id_gold_special  \\\n",
       "0                       0.0                           0.0   \n",
       "1                       0.0                           0.0   \n",
       "2                       0.0                           0.0   \n",
       "3                       0.0                           0.0   \n",
       "4                       0.0                           0.0   \n",
       "\n",
       "   listing_type_id_silver  buying_mode_auction  buying_mode_buy_it_now  ...  \\\n",
       "0                     0.0                  0.0                     1.0  ...   \n",
       "1                     1.0                  0.0                     1.0  ...   \n",
       "2                     0.0                  0.0                     1.0  ...   \n",
       "3                     1.0                  0.0                     1.0  ...   \n",
       "4                     0.0                  0.0                     1.0  ...   \n",
       "\n",
       "   shipping_mode_custom  shipping_mode_me1  shipping_mode_me2  \\\n",
       "0                   0.0                0.0                0.0   \n",
       "1                   0.0                0.0                1.0   \n",
       "2                   0.0                0.0                1.0   \n",
       "3                   0.0                0.0                1.0   \n",
       "4                   0.0                0.0                0.0   \n",
       "\n",
       "   shipping_mode_not_specified  automatic_relist  local_pick_up  \\\n",
       "0                          1.0                 0              1   \n",
       "1                          0.0                 0              1   \n",
       "2                          0.0                 0              1   \n",
       "3                          0.0                 0              1   \n",
       "4                          1.0                 0              1   \n",
       "\n",
       "   free_shipping     price  sold_quantity  available_quantity  \n",
       "0              0 -0.006082      -0.056156           -0.080423  \n",
       "1              0 -0.005784      -0.056156           -0.080423  \n",
       "2              0 -0.006084      -0.056156           -0.080423  \n",
       "3              0 -0.006024      -0.056156           -0.080423  \n",
       "4              0 -0.006088      -0.056156           -0.080423  \n",
       "\n",
       "[5 rows x 25 columns]"
      ]
     },
     "execution_count": 9,
     "metadata": {},
     "output_type": "execute_result"
    }
   ],
   "source": [
    "df_ml = pd.concat([df[target], df_encoded, df_booleans, df_scaled], axis=1)\n",
    "df_ml.head()"
   ]
  },
  {
   "cell_type": "markdown",
   "id": "c4b3fc6d",
   "metadata": {},
   "source": [
    "#### _Splitting Data_"
   ]
  },
  {
   "cell_type": "code",
   "execution_count": 10,
   "id": "ec2cdb08",
   "metadata": {},
   "outputs": [],
   "source": [
    "X = df_ml\n",
    "y = df_ml['condition']\n",
    "\n",
    "X_train, X_test, y_train, y_test = model_selection.train_test_split(X, y, test_size=0.2, random_state=42)"
   ]
  },
  {
   "cell_type": "markdown",
   "id": "b945d5bc",
   "metadata": {},
   "source": [
    "#### _Models_"
   ]
  },
  {
   "cell_type": "markdown",
   "id": "e2cc6491",
   "metadata": {},
   "source": [
    "The models that are going to be used, due to their wide use for classification are:\n",
    "- Logistic Regression\n",
    "- XGBoost\n",
    "- KNN\n",
    "- Decision Tree\n",
    "\n",
    "And the metrics used are:\n",
    "- Accuracy\n",
    "- Precision\n",
    "- Recall\n",
    "- F1 score"
   ]
  },
  {
   "cell_type": "code",
   "execution_count": 11,
   "id": "f379d35b",
   "metadata": {},
   "outputs": [],
   "source": [
    "models = {\n",
    "    'Logistic Regression': LogisticRegression(max_iter=1000),\n",
    "    'XGBoost': xgb.XGBClassifier(use_label_encoder=False, eval_metric='logloss'),\n",
    "    'KNN': KNeighborsClassifier(n_neighbors=5),\n",
    "    'Decision Tree': DecisionTreeClassifier()\n",
    "}\n"
   ]
  },
  {
   "cell_type": "code",
   "execution_count": 12,
   "id": "7fb67893",
   "metadata": {},
   "outputs": [],
   "source": [
    "X = df_ml.drop(columns=['condition'])\n",
    "y = df_ml['condition']\n",
    "\n",
    "X_train, X_test, y_train, y_test = train_test_split(X, y, test_size=0.2, random_state=42)\n",
    "\n",
    "cv = StratifiedKFold(n_splits=5, shuffle=True, random_state=42)"
   ]
  },
  {
   "cell_type": "code",
   "execution_count": 13,
   "id": "0a2c5f2b",
   "metadata": {},
   "outputs": [
    {
     "name": "stdout",
     "output_type": "stream",
     "text": [
      "\n",
      "Training model: Logistic Regression\n",
      "\n",
      "Training model: XGBoost\n"
     ]
    },
    {
     "name": "stderr",
     "output_type": "stream",
     "text": [
      "c:\\Users\\natym\\Desktop\\ML_activity\\venv\\Lib\\site-packages\\xgboost\\training.py:183: UserWarning: [00:08:14] WARNING: C:\\actions-runner\\_work\\xgboost\\xgboost\\src\\learner.cc:738: \n",
      "Parameters: { \"use_label_encoder\" } are not used.\n",
      "\n",
      "  bst.update(dtrain, iteration=i, fobj=obj)\n",
      "c:\\Users\\natym\\Desktop\\ML_activity\\venv\\Lib\\site-packages\\xgboost\\training.py:183: UserWarning: [00:08:14] WARNING: C:\\actions-runner\\_work\\xgboost\\xgboost\\src\\learner.cc:738: \n",
      "Parameters: { \"use_label_encoder\" } are not used.\n",
      "\n",
      "  bst.update(dtrain, iteration=i, fobj=obj)\n",
      "c:\\Users\\natym\\Desktop\\ML_activity\\venv\\Lib\\site-packages\\xgboost\\training.py:183: UserWarning: [00:08:14] WARNING: C:\\actions-runner\\_work\\xgboost\\xgboost\\src\\learner.cc:738: \n",
      "Parameters: { \"use_label_encoder\" } are not used.\n",
      "\n",
      "  bst.update(dtrain, iteration=i, fobj=obj)\n",
      "c:\\Users\\natym\\Desktop\\ML_activity\\venv\\Lib\\site-packages\\xgboost\\training.py:183: UserWarning: [00:08:15] WARNING: C:\\actions-runner\\_work\\xgboost\\xgboost\\src\\learner.cc:738: \n",
      "Parameters: { \"use_label_encoder\" } are not used.\n",
      "\n",
      "  bst.update(dtrain, iteration=i, fobj=obj)\n",
      "c:\\Users\\natym\\Desktop\\ML_activity\\venv\\Lib\\site-packages\\xgboost\\training.py:183: UserWarning: [00:08:15] WARNING: C:\\actions-runner\\_work\\xgboost\\xgboost\\src\\learner.cc:738: \n",
      "Parameters: { \"use_label_encoder\" } are not used.\n",
      "\n",
      "  bst.update(dtrain, iteration=i, fobj=obj)\n"
     ]
    },
    {
     "name": "stdout",
     "output_type": "stream",
     "text": [
      "\n",
      "Training model: KNN\n",
      "\n",
      "Training model: Decision Tree\n"
     ]
    }
   ],
   "source": [
    "metrics = []\n",
    "\n",
    "for name, model in models.items():\n",
    "    print(f\"\\nTraining model: {name}\")\n",
    "\n",
    "    y_pred_cv = cross_val_predict(model, X_train, y_train, cv=cv)\n",
    "\n",
    "    acc = accuracy_score(y_train, y_pred_cv)\n",
    "    prec = precision_score(y_train, y_pred_cv, average='weighted')\n",
    "    rec = recall_score(y_train, y_pred_cv, average='weighted')\n",
    "    f1 = f1_score(y_train, y_pred_cv, average='weighted')\n",
    "    \n",
    "    metrics.append({\n",
    "        'Model': name,\n",
    "        'Accuracy': acc,\n",
    "        'Precision': prec,\n",
    "        'Recall': rec,\n",
    "        'F1 Score': f1\n",
    "    })"
   ]
  },
  {
   "cell_type": "code",
   "execution_count": 14,
   "id": "4b096b43",
   "metadata": {},
   "outputs": [
    {
     "name": "stdout",
     "output_type": "stream",
     "text": [
      "\n",
      "Evaluation in the test set:\n",
      "\n",
      "=== Logistic Regression ===\n",
      "              precision    recall  f1-score   support\n",
      "\n",
      "           0     0.8852    0.5189    0.6543      9283\n",
      "           1     0.6932    0.9417    0.7986     10717\n",
      "\n",
      "    accuracy                         0.7454     20000\n",
      "   macro avg     0.7892    0.7303    0.7264     20000\n",
      "weighted avg     0.7823    0.7454    0.7316     20000\n",
      "\n",
      "Accuracy: 0.7454\n"
     ]
    },
    {
     "data": {
      "image/png": "[encoded data removed]",
      "text/plain": [
       "<Figure size 640x480 with 2 Axes>"
      ]
     },
     "metadata": {},
     "output_type": "display_data"
    },
    {
     "name": "stdout",
     "output_type": "stream",
     "text": [
      "\n",
      "=== XGBoost ===\n"
     ]
    },
    {
     "name": "stderr",
     "output_type": "stream",
     "text": [
      "c:\\Users\\natym\\Desktop\\ML_activity\\venv\\Lib\\site-packages\\xgboost\\training.py:183: UserWarning: [00:08:30] WARNING: C:\\actions-runner\\_work\\xgboost\\xgboost\\src\\learner.cc:738: \n",
      "Parameters: { \"use_label_encoder\" } are not used.\n",
      "\n",
      "  bst.update(dtrain, iteration=i, fobj=obj)\n"
     ]
    },
    {
     "name": "stdout",
     "output_type": "stream",
     "text": [
      "              precision    recall  f1-score   support\n",
      "\n",
      "           0     0.8111    0.8356    0.8232      9283\n",
      "           1     0.8538    0.8315    0.8425     10717\n",
      "\n",
      "    accuracy                         0.8334     20000\n",
      "   macro avg     0.8325    0.8335    0.8328     20000\n",
      "weighted avg     0.8340    0.8334    0.8335     20000\n",
      "\n",
      "Accuracy: 0.8334\n"
     ]
    },
    {
     "data": {
      "image/png": "[encoded data removed]",
      "text/plain": [
       "<Figure size 640x480 with 2 Axes>"
      ]
     },
     "metadata": {},
     "output_type": "display_data"
    },
    {
     "name": "stdout",
     "output_type": "stream",
     "text": [
      "\n",
      "=== KNN ===\n",
      "              precision    recall  f1-score   support\n",
      "\n",
      "           0     0.7941    0.8228    0.8082      9283\n",
      "           1     0.8415    0.8152    0.8281     10717\n",
      "\n",
      "    accuracy                         0.8187     20000\n",
      "   macro avg     0.8178    0.8190    0.8182     20000\n",
      "weighted avg     0.8195    0.8187    0.8189     20000\n",
      "\n",
      "Accuracy: 0.8187\n"
     ]
    },
    {
     "data": {
      "image/png": "[encoded data removed]",
      "text/plain": [
       "<Figure size 640x480 with 2 Axes>"
      ]
     },
     "metadata": {},
     "output_type": "display_data"
    },
    {
     "name": "stdout",
     "output_type": "stream",
     "text": [
      "\n",
      "=== Decision Tree ===\n",
      "              precision    recall  f1-score   support\n",
      "\n",
      "           0     0.7596    0.8842    0.8172      9283\n",
      "           1     0.8831    0.7576    0.8155     10717\n",
      "\n",
      "    accuracy                         0.8164     20000\n",
      "   macro avg     0.8213    0.8209    0.8163     20000\n",
      "weighted avg     0.8258    0.8164    0.8163     20000\n",
      "\n",
      "Accuracy: 0.8164\n"
     ]
    },
    {
     "data": {
      "image/png": "[encoded data removed]",
      "text/plain": [
       "<Figure size 640x480 with 2 Axes>"
      ]
     },
     "metadata": {},
     "output_type": "display_data"
    }
   ],
   "source": [
    "print(\"\\nEvaluation in the test set:\")\n",
    "\n",
    "for name, model in models.items():\n",
    "    print(f\"\\n=== {name} ===\")\n",
    "    \n",
    "    model.fit(X_train, y_train)\n",
    "    \n",
    "    y_pred_test = model.predict(X_test)\n",
    "    \n",
    "    print(classification_report(y_test, y_pred_test, digits=4))\n",
    "    \n",
    "    acc = accuracy_score(y_test, y_pred_test)\n",
    "    print(f\"Accuracy: {acc:.4f}\")\n",
    "\n",
    "    cm = confusion_matrix(y_test, y_pred_test, labels=model.classes_)\n",
    "    disp = ConfusionMatrixDisplay(confusion_matrix=cm, display_labels=model.classes_)\n",
    "    disp.plot(cmap='Blues')\n",
    "    plt.title(f\"Confusion Matrix - {name}\")\n",
    "    plt.show()"
   ]
  },
  {
   "cell_type": "code",
   "execution_count": 15,
   "id": "d5e91aeb",
   "metadata": {},
   "outputs": [
    {
     "name": "stdout",
     "output_type": "stream",
     "text": [
      "\n",
      "Comparative results:\n",
      "                 Model  Accuracy  Precision    Recall  F1 Score\n",
      "1              XGBoost  0.834688   0.835464  0.834688  0.834850\n",
      "2                  KNN  0.819450   0.820705  0.819450  0.819667\n",
      "3        Decision Tree  0.816150   0.824384  0.816150  0.816225\n",
      "0  Logistic Regression  0.741175   0.778831  0.741175  0.726252\n"
     ]
    }
   ],
   "source": [
    "results_df = pd.DataFrame(metrics)\n",
    "print(\"\\nComparative results:\")\n",
    "print(results_df.sort_values(by='F1 Score', ascending=False))"
   ]
  },
  {
   "cell_type": "markdown",
   "id": "6d37c3b5",
   "metadata": {},
   "source": [
    "**_Conclusions_**\n",
    "\n",
    "- XGBoost achieved the highest Accuracy (83.47%), indicating that it had the best overall prediction performance on unseen data. This suggests it is the most suitable model when the objective is to maximize correct classifications regardless of class.\n",
    "\n",
    "- KNN and Decision Tree followed closely, with accuracies of 81.95% and 81.62%, respectively. These models might be valid alternatives in contexts where interpretability (Decision Tree) or instance-based logic (KNN) are prioritized.\n",
    "\n",
    "- Logistic Regression showed significantly lower accuracy (74.12%), indicating that a linear decision boundary is not sufficient to model the underlying patterns in this dataset."
   ]
  }
 ],
 "metadata": {
  "kernelspec": {
   "display_name": "venv",
   "language": "python",
   "name": "python3"
  },
  "language_info": {
   "codemirror_mode": {
    "name": "ipython",
    "version": 3
   },
   "file_extension": ".py",
   "mimetype": "text/x-python",
   "name": "python",
   "nbconvert_exporter": "python",
   "pygments_lexer": "ipython3",
   "version": "3.11.9"
  }
 },
 "nbformat": 4,
 "nbformat_minor": 5
}
